{
 "cells": [
  {
   "cell_type": "markdown",
   "id": "45c6b288",
   "metadata": {},
   "source": [
    "# commet avoir une synthèse des options et de l'utilisation de pybind11 ? \n",
    "\n",
    "Pybind11 est une bibliothèque C++ pour faciliter l'intégration du code C++ dans des applications Python en utilisant les fonctionnalités de liaison fournies par Python C API. Les options clés incluent:\n",
    "\n",
    "- Intégration facile: Pybind11 permet d'intégrer facilement le code C++ dans Python sans avoir à écrire des quantités importantes de code.\n",
    "- Liaison de fonctions et de classes: Pybind11 peut lier les fonctions et les classes C++ aux scripts Python, ce qui permet d'utiliser le code C++ à partir de Python.\n",
    "- Gestion automatique de la mémoire: Pybind11 gère automatiquement la mémoire pour les objets Python créés à partir de C++ et inversement.\n",
    "- Documentation générée automatiquement: Pybind11 peut générer automatiquement la documentation pour les fonctions et les classes liées, ce qui facilite la compréhension de l'API pour les utilisateurs de Python.\n",
    "\n",
    "En résumé, Pybind11 est un outil utile pour les développeurs qui souhaitent intégrer le code C++ dans des applications Python de manière efficace et sans tracas.\n"
   ]
  },
  {
   "cell_type": "markdown",
   "id": "be45dc22",
   "metadata": {},
   "source": [
    "# Fichier de compilation setup.py\n",
    "\n",
    "Voici un exemple de fichier setup.py qui peut être utilisé pour compiler un module Python à partir de code C++ sous Linux:"
   ]
  },
  {
   "cell_type": "code",
   "execution_count": 1,
   "id": "1c16d050",
   "metadata": {
    "cell_style": "split",
    "code_folding": [],
    "deletable": false,
    "editable": false,
    "scrolled": true
   },
   "outputs": [
    {
     "name": "stdout",
     "output_type": "stream",
     "text": [
      "Overwriting setup.py\n"
     ]
    }
   ],
   "source": [
    "%%file setup.py\n",
    "from distutils.core import setup, Extension\n",
    "\n",
    "# Définir le nom du module et les fichiers C++ à inclure\n",
    "module_name = \"example\"\n",
    "ext_modules = [Extension(module_name, [\"example.cpp\"])]\n",
    "\n",
    "# Définir les options de configuration\n",
    "setup(\n",
    "    name=module_name,\n",
    "    ext_modules=ext_modules,\n",
    ")"
   ]
  },
  {
   "cell_type": "markdown",
   "id": "213f95a8",
   "metadata": {
    "deletable": false,
    "editable": false
   },
   "source": [
    "Ce fichier setup.py utilise la bibliothèque setuptools pour compiler le code C++ en un module Python. Il définit le nom du module (example) et les fichiers C++ à inclure (example.cpp) dans ext_modules. La classe BuildExt est utilisée pour surcharger la commande build_ext afin de garantir que la compilation se produise correctement.\n",
    "\n",
    "Pour compiler le module Python à partir du code C++, ouvrez une invite de commande dans le répertoire contenant setup.py et exécutez la commande suivante:"
   ]
  },
  {
   "cell_type": "code",
   "execution_count": 2,
   "id": "02f39329",
   "metadata": {
    "cell_style": "split",
    "deletable": false,
    "editable": false,
    "scrolled": true
   },
   "outputs": [],
   "source": [
    "!python3 setup.py build_ext --inplace"
   ]
  },
  {
   "cell_type": "markdown",
   "id": "d367d45f",
   "metadata": {},
   "source": [
    "# quelle sont les différentes syntaxes possibles dans les fichiers cpp avec pybind11.\n",
    "\n",
    "Pybind11 offre plusieurs syntaxes pour lier le code C++ à Python. Les syntaxes les plus couramment utilisées incluent:\n",
    "\n",
    "## Liaison de fonctions:\n",
    "\n",
    "Pybind11 permet de lier des fonctions C++ à Python en utilisant la macro `PYBIND11_MODULE`.\n",
    "Cette macro permet de définir le module Python qui contiendra les fonctions liées."
   ]
  },
  {
   "cell_type": "markdown",
   "id": "c2ac2c34",
   "metadata": {},
   "source": [
    "### exemple de liaison de fonctions C++ à Python avec Pybind11:"
   ]
  },
  {
   "cell_type": "code",
   "execution_count": 3,
   "id": "a0e70336",
   "metadata": {
    "cell_style": "split",
    "code_folding": [],
    "deletable": false,
    "editable": false,
    "scrolled": true
   },
   "outputs": [
    {
     "name": "stdout",
     "output_type": "stream",
     "text": [
      "Overwriting example_liaison.cpp\n"
     ]
    }
   ],
   "source": [
    "%%file example_liaison.cpp\n",
    "#include <pybind11/pybind11.h>\n",
    "\n",
    "int add(int a, int b) {\n",
    "    return a + b;\n",
    "}\n",
    "\n",
    "PYBIND11_MODULE(example_liaison, m) {\n",
    "    m.def(\"add\", &add, \"A function which adds two numbers\");\n",
    "}"
   ]
  },
  {
   "cell_type": "markdown",
   "id": "e49595b7",
   "metadata": {},
   "source": [
    "Dans cet exemple, nous avons une fonction C++ simple appelée add qui prend en entrée deux entiers a et b et renvoie leur somme. Nous utilisons la macro PYBIND11_MODULE pour définir un module Python nommé example, et nous utilisons la méthode def pour lier notre fonction add à Python en lui fournissant un pointeur vers la fonction et une chaîne de documentation."
   ]
  },
  {
   "cell_type": "code",
   "execution_count": 4,
   "id": "24ce0986",
   "metadata": {
    "cell_style": "split",
    "code_folding": [],
    "deletable": false,
    "editable": false,
    "scrolled": true
   },
   "outputs": [
    {
     "name": "stdout",
     "output_type": "stream",
     "text": [
      "Overwriting setup_liaison.py\n"
     ]
    }
   ],
   "source": [
    "%%file setup_liaison.py\n",
    "from setuptools import setup, Extension\n",
    "\n",
    "module_name = \"example_liaison\"\n",
    "ext_modules = [Extension(module_name, [\"example_liaison.cpp\"])]\n",
    "\n",
    "setup(\n",
    "    name=module_name,\n",
    "    ext_modules=ext_modules,\n",
    ")"
   ]
  },
  {
   "cell_type": "markdown",
   "id": "2a04413d",
   "metadata": {},
   "source": [
    "Après avoir compilé ce code en utilisant pybind11, les utilisateurs de Python peuvent utiliser la fonction add en important le module example dans leur script Python. Par exemple:"
   ]
  },
  {
   "cell_type": "code",
   "execution_count": 5,
   "id": "2e00132a",
   "metadata": {
    "cell_style": "center",
    "deletable": false,
    "editable": false,
    "scrolled": true
   },
   "outputs": [
    {
     "name": "stdout",
     "output_type": "stream",
     "text": [
      "running build_ext\n",
      "building 'example_liaison' extension\n",
      "x86_64-linux-gnu-gcc -Wsign-compare -DNDEBUG -g -fwrapv -O2 -Wall -g -fstack-protector-strong -Wformat -Werror=format-security -g -fwrapv -O2 -fPIC -I/usr/include/python3.11 -c example_liaison.cpp -o build/temp.linux-x86_64-cpython-311/example_liaison.o\n",
      "x86_64-linux-gnu-g++ -shared -Wl,-O1 -Wl,-Bsymbolic-functions -g -fwrapv -O2 build/temp.linux-x86_64-cpython-311/example_liaison.o -L/usr/lib/x86_64-linux-gnu -o build/lib.linux-x86_64-cpython-311/example_liaison.cpython-311-x86_64-linux-gnu.so\n",
      "copying build/lib.linux-x86_64-cpython-311/example_liaison.cpython-311-x86_64-linux-gnu.so -> \n"
     ]
    }
   ],
   "source": [
    "!python3 setup_liaison.py build_ext --inplace"
   ]
  },
  {
   "cell_type": "code",
   "execution_count": 6,
   "id": "a51a74c7",
   "metadata": {
    "cell_style": "center",
    "code_folding": [],
    "deletable": false,
    "editable": false,
    "scrolled": true
   },
   "outputs": [
    {
     "name": "stdout",
     "output_type": "stream",
     "text": [
      "3\n"
     ]
    }
   ],
   "source": [
    "#%%file main.py\n",
    "import example_liaison as example\n",
    "\n",
    "result = example.add(1, 2)\n",
    "print(result) # Affichera 3"
   ]
  },
  {
   "cell_type": "markdown",
   "id": "f0808c58",
   "metadata": {},
   "source": [
    "Cela compilera le module Python et le placer dans le même répertoire que setup.py. Les utilisateurs de Python peuvent ensuite importer le module en utilisant le nom spécifié dans module_name."
   ]
  },
  {
   "cell_type": "markdown",
   "id": "57a4bd94",
   "metadata": {},
   "source": [
    "## Liaison de classes: \n",
    "\n",
    "Pybind11 permet de lier des classes C++ à Python en utilisant la macro `PYBIND11_MODULE` et en définissant la classe Python correspondante à l'aide de la classe `py::class_`.\n",
    "\n",
    "### exemple de liaison de classes C++ à Python avec Pybind11:"
   ]
  },
  {
   "cell_type": "code",
   "execution_count": 7,
   "id": "3091636a",
   "metadata": {
    "code_folding": [],
    "deletable": false,
    "editable": false,
    "scrolled": true
   },
   "outputs": [
    {
     "name": "stdout",
     "output_type": "stream",
     "text": [
      "Overwriting example_class.cpp\n"
     ]
    }
   ],
   "source": [
    "%%file example_class.cpp\n",
    "#include <pybind11/pybind11.h>\n",
    "\n",
    "class Pet {\n",
    "public:\n",
    "    Pet(const std::string &name) : name(name) {}\n",
    "    void setName(const std::string &name_) { name = name_; }\n",
    "    std::string getName() const { return name; }\n",
    "\n",
    "private:\n",
    "    std::string name;\n",
    "};\n",
    "\n",
    "PYBIND11_MODULE(example_class, m) {\n",
    "    pybind11::class_<Pet>(m, \"Pet\")\n",
    "        .def(pybind11::init<const std::string &>())\n",
    "        .def(\"setName\", &Pet::setName)\n",
    "        .def(\"getName\", &Pet::getName);\n",
    "}"
   ]
  },
  {
   "cell_type": "markdown",
   "id": "0f8041f8",
   "metadata": {},
   "source": [
    "Dans cet exemple, nous avons une classe C++ simple appelée Pet qui a une propriété nommée name et des méthodes pour obtenir et définir la valeur de cette propriété. Nous utilisons la macro PYBIND11_MODULE pour définir un module Python nommé example, et nous utilisons la méthode pybind11::class_ pour lier notre classe Pet à Python.\n",
    "\n",
    "Nous définissons ensuite les méthodes de la classe en utilisant les méthodes def et en fournissant un pointeur vers les méthodes C++ correspondantes. Nous pouvons également définir un constructeur pour la classe en utilisant la méthode pybind11::init."
   ]
  },
  {
   "cell_type": "code",
   "execution_count": 8,
   "id": "00f7eb2a",
   "metadata": {
    "code_folding": [],
    "deletable": false,
    "editable": false,
    "scrolled": true
   },
   "outputs": [
    {
     "name": "stdout",
     "output_type": "stream",
     "text": [
      "Overwriting setup_class.py\n"
     ]
    }
   ],
   "source": [
    "%%file setup_class.py\n",
    "from setuptools import setup, Extension\n",
    "\n",
    "module_name = \"example_class\"\n",
    "ext_modules = [Extension(module_name, [\"example_class.cpp\"])]\n",
    "\n",
    "setup(\n",
    "    name=module_name,\n",
    "    ext_modules=ext_modules,\n",
    ")"
   ]
  },
  {
   "cell_type": "code",
   "execution_count": 9,
   "id": "a6d9cfbf",
   "metadata": {
    "deletable": false,
    "editable": false,
    "scrolled": true
   },
   "outputs": [
    {
     "name": "stdout",
     "output_type": "stream",
     "text": [
      "running build_ext\n",
      "building 'example_class' extension\n",
      "x86_64-linux-gnu-gcc -Wsign-compare -DNDEBUG -g -fwrapv -O2 -Wall -g -fstack-protector-strong -Wformat -Werror=format-security -g -fwrapv -O2 -fPIC -I/usr/include/python3.11 -c example_class.cpp -o build/temp.linux-x86_64-cpython-311/example_class.o\n",
      "x86_64-linux-gnu-g++ -shared -Wl,-O1 -Wl,-Bsymbolic-functions -g -fwrapv -O2 build/temp.linux-x86_64-cpython-311/example_class.o -L/usr/lib/x86_64-linux-gnu -o build/lib.linux-x86_64-cpython-311/example_class.cpython-311-x86_64-linux-gnu.so\n",
      "copying build/lib.linux-x86_64-cpython-311/example_class.cpython-311-x86_64-linux-gnu.so -> \n"
     ]
    }
   ],
   "source": [
    "!python3 setup_class.py build_ext --inplace"
   ]
  },
  {
   "cell_type": "markdown",
   "id": "c8b2badf",
   "metadata": {},
   "source": [
    "Après avoir compilé ce code en utilisant pybind11, les utilisateurs de Python peuvent créer des instances de la classe Pet en important le module example dans leur script Python. Par exemple:"
   ]
  },
  {
   "cell_type": "code",
   "execution_count": 10,
   "id": "cd4ba3c8",
   "metadata": {
    "deletable": false,
    "editable": false,
    "scrolled": true
   },
   "outputs": [
    {
     "name": "stdout",
     "output_type": "stream",
     "text": [
      "Fluffy\n",
      "Buddy\n"
     ]
    }
   ],
   "source": [
    "import example_class as example\n",
    "\n",
    "pet = example.Pet(\"Fluffy\")\n",
    "print(pet.getName()) # Affichera Fluffy\n",
    "pet.setName(\"Buddy\")\n",
    "print(pet.getName()) # Affichera Buddy"
   ]
  },
  {
   "cell_type": "markdown",
   "id": "c8b1ccb8",
   "metadata": {},
   "source": [
    "## Liaison de variables: \n",
    "\n",
    "Pybind11 permet de lier des variables C++ à Python en utilisant la macro `py::class_` et en définissant la variable correspondante à l'aide de la méthode `attr()`.\n",
    "\n",
    "### exemple de liaison de variables C++ à Python avec Pybind11:"
   ]
  },
  {
   "cell_type": "code",
   "execution_count": 11,
   "id": "7d6673e6",
   "metadata": {
    "deletable": false,
    "editable": false,
    "scrolled": true
   },
   "outputs": [
    {
     "name": "stdout",
     "output_type": "stream",
     "text": [
      "Overwriting example_variables.cpp\n"
     ]
    }
   ],
   "source": [
    "%%file example_variables.cpp\n",
    "#include <pybind11/pybind11.h>\n",
    "\n",
    "int g_x = 0;\n",
    "\n",
    "PYBIND11_MODULE(example_variables, m) {\n",
    "    m.def(\"getX\", []() { return g_x; }, \"Gets the value of global variable x\");\n",
    "    m.def(\"setX\", [](int x) { g_x = x; }, \"Sets the value of global variable x\");\n",
    "}"
   ]
  },
  {
   "cell_type": "markdown",
   "id": "13412d3c",
   "metadata": {},
   "source": [
    "Dans cet exemple, nous avons une variable globale C++ appelée g_x initialisée à 0. Nous utilisons la macro PYBIND11_MODULE pour définir un module Python nommé example, et nous utilisons la méthode def pour lier des fonctions C++ à Python qui permettent d'obtenir et de définir la valeur de la variable globale g_x."
   ]
  },
  {
   "cell_type": "code",
   "execution_count": 12,
   "id": "7165957a",
   "metadata": {
    "code_folding": [],
    "deletable": false,
    "editable": false,
    "scrolled": true
   },
   "outputs": [
    {
     "name": "stdout",
     "output_type": "stream",
     "text": [
      "Overwriting setup_variables.py\n"
     ]
    }
   ],
   "source": [
    "%%file setup_variables.py\n",
    "from setuptools import setup, Extension\n",
    "\n",
    "module_name = \"example_variables\"\n",
    "ext_modules = [Extension(module_name, [\"example_variables.cpp\"])]\n",
    "\n",
    "setup(\n",
    "    name=module_name,\n",
    "    ext_modules=ext_modules,\n",
    ")"
   ]
  },
  {
   "cell_type": "code",
   "execution_count": 13,
   "id": "46c073d7",
   "metadata": {
    "deletable": false,
    "editable": false,
    "scrolled": true
   },
   "outputs": [
    {
     "name": "stdout",
     "output_type": "stream",
     "text": [
      "running build_ext\n",
      "building 'example_variables' extension\n",
      "x86_64-linux-gnu-gcc -Wsign-compare -DNDEBUG -g -fwrapv -O2 -Wall -g -fstack-protector-strong -Wformat -Werror=format-security -g -fwrapv -O2 -fPIC -I/usr/include/python3.11 -c example_variables.cpp -o build/temp.linux-x86_64-cpython-311/example_variables.o\n",
      "x86_64-linux-gnu-g++ -shared -Wl,-O1 -Wl,-Bsymbolic-functions -g -fwrapv -O2 build/temp.linux-x86_64-cpython-311/example_variables.o -L/usr/lib/x86_64-linux-gnu -o build/lib.linux-x86_64-cpython-311/example_variables.cpython-311-x86_64-linux-gnu.so\n",
      "copying build/lib.linux-x86_64-cpython-311/example_variables.cpython-311-x86_64-linux-gnu.so -> \n"
     ]
    }
   ],
   "source": [
    "!python3 setup_variables.py build_ext --inplace"
   ]
  },
  {
   "cell_type": "markdown",
   "id": "2926b687",
   "metadata": {
    "deletable": false,
    "editable": false
   },
   "source": [
    "Après avoir compilé ce code en utilisant pybind11, les utilisateurs de Python peuvent obtenir et définir la valeur de la variable globale g_x en important le module example dans leur script Python. Par exemple:"
   ]
  },
  {
   "cell_type": "code",
   "execution_count": 14,
   "id": "519faaaf",
   "metadata": {
    "deletable": false,
    "editable": false,
    "scrolled": true
   },
   "outputs": [
    {
     "name": "stdout",
     "output_type": "stream",
     "text": [
      "0\n",
      "42\n"
     ]
    }
   ],
   "source": [
    "import example_variables as example\n",
    "\n",
    "print(example.getX()) # Affichera 0\n",
    "example.setX(42)\n",
    "print(example.getX()) # Affichera 42"
   ]
  },
  {
   "cell_type": "markdown",
   "id": "4b7334f1",
   "metadata": {},
   "source": [
    "## Liaison de valeurs en constantes: \n",
    "\n",
    "Pybind11 permet de lier des constantes C++ à Python en utilisant la macro `py::module` et en définissant la constante correspondante à l'aide de la méthode `def_readonly()`.\n",
    "\n",
    "### exemple de liaison de valeurs constantes C++ à Python avec Pybind11:"
   ]
  },
  {
   "cell_type": "code",
   "execution_count": 15,
   "id": "c05e2da8",
   "metadata": {
    "deletable": false,
    "editable": false,
    "scrolled": true
   },
   "outputs": [
    {
     "name": "stdout",
     "output_type": "stream",
     "text": [
      "Overwriting example_constantes.cpp\n"
     ]
    }
   ],
   "source": [
    "%%file example_constantes.cpp\n",
    "#include <pybind11/pybind11.h>\n",
    "\n",
    "constexpr float kPi = 3.14159265358979323846;\n",
    "\n",
    "PYBIND11_MODULE(example_constantes, m) {\n",
    "    m.def(\"getPi\", []() { return kPi; }, \"Gets the value of pi\");\n",
    "}"
   ]
  },
  {
   "cell_type": "markdown",
   "id": "67851111",
   "metadata": {},
   "source": [
    "Dans cet exemple, nous avons une valeur constante C++ appelée kPi qui représente la valeur approchée de π. Nous utilisons la macro PYBIND11_MODULE pour définir un module Python nommé example, et nous utilisons la méthode def pour lier une fonction C++ à Python qui renvoie la valeur de kPi."
   ]
  },
  {
   "cell_type": "code",
   "execution_count": 16,
   "id": "5535cd0e",
   "metadata": {
    "deletable": false,
    "editable": false,
    "scrolled": true
   },
   "outputs": [
    {
     "name": "stdout",
     "output_type": "stream",
     "text": [
      "Overwriting setup_constantes.py\n"
     ]
    }
   ],
   "source": [
    "%%file setup_constantes.py\n",
    "from setuptools import setup, Extension\n",
    "\n",
    "module_name = \"example_constantes\"\n",
    "ext_modules = [Extension(module_name, [\"example_constantes.cpp\"])]\n",
    "\n",
    "setup(\n",
    "    name=module_name,\n",
    "    ext_modules=ext_modules,\n",
    ")\n"
   ]
  },
  {
   "cell_type": "markdown",
   "id": "6eaf3870",
   "metadata": {},
   "source": [
    "Après avoir compilé ce code en utilisant pybind11, les utilisateurs de Python peuvent obtenir la valeur de kPi en important le module example dans leur script Python. Par exemple:"
   ]
  },
  {
   "cell_type": "code",
   "execution_count": 17,
   "id": "ac2ee0cb",
   "metadata": {
    "deletable": false,
    "editable": false,
    "scrolled": true
   },
   "outputs": [
    {
     "name": "stdout",
     "output_type": "stream",
     "text": [
      "running build_ext\n",
      "building 'example_constantes' extension\n",
      "x86_64-linux-gnu-gcc -Wsign-compare -DNDEBUG -g -fwrapv -O2 -Wall -g -fstack-protector-strong -Wformat -Werror=format-security -g -fwrapv -O2 -fPIC -I/usr/include/python3.11 -c example_constantes.cpp -o build/temp.linux-x86_64-cpython-311/example_constantes.o\n",
      "x86_64-linux-gnu-g++ -shared -Wl,-O1 -Wl,-Bsymbolic-functions -g -fwrapv -O2 build/temp.linux-x86_64-cpython-311/example_constantes.o -L/usr/lib/x86_64-linux-gnu -o build/lib.linux-x86_64-cpython-311/example_constantes.cpython-311-x86_64-linux-gnu.so\n",
      "copying build/lib.linux-x86_64-cpython-311/example_constantes.cpython-311-x86_64-linux-gnu.so -> \n"
     ]
    }
   ],
   "source": [
    "!python3 setup_constantes.py build_ext --inplace"
   ]
  },
  {
   "cell_type": "code",
   "execution_count": 18,
   "id": "18d56a6f",
   "metadata": {
    "deletable": false,
    "editable": false,
    "scrolled": true
   },
   "outputs": [
    {
     "name": "stdout",
     "output_type": "stream",
     "text": [
      "3.1415927410125732\n"
     ]
    }
   ],
   "source": [
    "#%%file main.py\n",
    "import example_constantes as example\n",
    "\n",
    "print(example.getPi()) # Affichera 3.14159265358979323846"
   ]
  },
  {
   "cell_type": "markdown",
   "id": "ae25a972",
   "metadata": {},
   "source": [
    "## Liaison d'objets en valeur:\n",
    "\n",
    "Pybind11 permet de lier des objets C++ à Python en les passant par valeur en utilisant la macro `py::class_` et en définissant la méthode d'objet correspondante à l'aide de la méthode `def()`.\n",
    "\n",
    "Ces syntaxes sont les plus couramment utilisées pour lier le code C++ à Python avec Pybind11, mais il existe également d'autres options et syntaxes disponibles selon les besoins de l'application.\n",
    "\n",
    "### exemple de liaison d'objets C++ en valeur à Python avec Pybind11:"
   ]
  },
  {
   "cell_type": "code",
   "execution_count": 19,
   "id": "b7065088",
   "metadata": {
    "deletable": false,
    "editable": false,
    "scrolled": true
   },
   "outputs": [
    {
     "name": "stdout",
     "output_type": "stream",
     "text": [
      "Overwriting example_obj.cpp\n"
     ]
    }
   ],
   "source": [
    "%%file example_obj.cpp\n",
    "#include <pybind11/pybind11.h>\n",
    "#include <string>\n",
    "\n",
    "class Person {\n",
    " public:\n",
    "  Person(const std::string &name, int age) : name_(name), age_(age) {}\n",
    "  std::string GetName() const { return name_; }\n",
    "  int GetAge() const { return age_; }\n",
    "  void SetAge(int age) { age_ = age; }\n",
    "\n",
    " private:\n",
    "  std::string name_;\n",
    "  int age_;\n",
    "};\n",
    "\n",
    "PYBIND11_MODULE(example_obj, m) {\n",
    "  pybind11::class_<Person>(m, \"Person\")\n",
    "      .def(pybind11::init<const std::string &, int>())\n",
    "      .def(\"getName\", &Person::GetName)\n",
    "      .def(\"getAge\", &Person::GetAge)\n",
    "      .def(\"setAge\", &Person::SetAge);\n",
    "}"
   ]
  },
  {
   "cell_type": "markdown",
   "id": "35002d4b",
   "metadata": {},
   "source": [
    "Dans cet exemple, nous avons défini une classe C++ Person qui a des membres pour le nom et l'âge d'une personne. Nous utilisons la macro PYBIND11_MODULE pour définir un module Python nommé example, et nous utilisons la méthode class_ pour lier la classe Person à Python. Nous définissons également les méthodes pour obtenir et définir les membres de l'objet Person."
   ]
  },
  {
   "cell_type": "code",
   "execution_count": 20,
   "id": "6a02daea",
   "metadata": {
    "deletable": false,
    "editable": false,
    "scrolled": true
   },
   "outputs": [
    {
     "name": "stdout",
     "output_type": "stream",
     "text": [
      "Overwriting setup_obj.py\n"
     ]
    }
   ],
   "source": [
    "%%file setup_obj.py\n",
    "from setuptools import setup, Extension\n",
    "\n",
    "module_name = \"example_obj\"\n",
    "ext_modules = [Extension(module_name, [\"example_obj.cpp\"])]\n",
    "\n",
    "setup(\n",
    "    name=module_name,\n",
    "    ext_modules=ext_modules,\n",
    ")\n"
   ]
  },
  {
   "cell_type": "markdown",
   "id": "2d666477",
   "metadata": {},
   "source": [
    "Après avoir compilé ce code en utilisant pybind11, les utilisateurs de Python peuvent créer des objets Person en important le module example dans leur script Python. Par exemple:"
   ]
  },
  {
   "cell_type": "code",
   "execution_count": 21,
   "id": "6d1b1dc2",
   "metadata": {
    "deletable": false,
    "editable": false,
    "scrolled": true
   },
   "outputs": [
    {
     "name": "stdout",
     "output_type": "stream",
     "text": [
      "running build_ext\n",
      "building 'example_obj' extension\n",
      "x86_64-linux-gnu-gcc -Wsign-compare -DNDEBUG -g -fwrapv -O2 -Wall -g -fstack-protector-strong -Wformat -Werror=format-security -g -fwrapv -O2 -fPIC -I/usr/include/python3.11 -c example_obj.cpp -o build/temp.linux-x86_64-cpython-311/example_obj.o\n",
      "x86_64-linux-gnu-g++ -shared -Wl,-O1 -Wl,-Bsymbolic-functions -g -fwrapv -O2 build/temp.linux-x86_64-cpython-311/example_obj.o -L/usr/lib/x86_64-linux-gnu -o build/lib.linux-x86_64-cpython-311/example_obj.cpython-311-x86_64-linux-gnu.so\n",
      "copying build/lib.linux-x86_64-cpython-311/example_obj.cpython-311-x86_64-linux-gnu.so -> \n"
     ]
    }
   ],
   "source": [
    "!python3 setup_obj.py build_ext --inplace"
   ]
  },
  {
   "cell_type": "code",
   "execution_count": 22,
   "id": "c2fe5228",
   "metadata": {
    "deletable": false,
    "editable": false,
    "scrolled": true
   },
   "outputs": [
    {
     "name": "stdout",
     "output_type": "stream",
     "text": [
      "John Doe\n",
      "30\n",
      "31\n"
     ]
    }
   ],
   "source": [
    "#%%file main.py\n",
    "import example_obj as example\n",
    "\n",
    "person = example.Person(\"John Doe\", 30)\n",
    "print(person.getName()) # Affichera \"John Doe\"\n",
    "print(person.getAge()) # Affichera 30\n",
    "person.setAge(31)\n",
    "print(person.getAge()) # Affichera 31"
   ]
  },
  {
   "cell_type": "code",
   "execution_count": 23,
   "id": "40a3dac7",
   "metadata": {},
   "outputs": [
    {
     "name": "stdout",
     "output_type": "stream",
     "text": [
      "linux\n"
     ]
    }
   ],
   "source": [
    "import sys\n",
    "\n",
    "print(sys.platform)"
   ]
  },
  {
   "cell_type": "code",
   "execution_count": null,
   "id": "619428f7",
   "metadata": {},
   "outputs": [],
   "source": []
  }
 ],
 "metadata": {
  "hide_input": false,
  "kernelspec": {
   "display_name": "Python 3 (ipykernel)",
   "language": "python",
   "name": "python3"
  },
  "language_info": {
   "codemirror_mode": {
    "name": "ipython",
    "version": 3
   },
   "file_extension": ".py",
   "mimetype": "text/x-python",
   "name": "python",
   "nbconvert_exporter": "python",
   "pygments_lexer": "ipython3",
   "version": "3.11.2"
  },
  "latex_envs": {
   "LaTeX_envs_menu_present": true,
   "autoclose": false,
   "autocomplete": true,
   "bibliofile": "biblio.bib",
   "cite_by": "apalike",
   "current_citInitial": 1,
   "eqLabelWithNumbers": true,
   "eqNumInitial": 1,
   "hotkeys": {
    "equation": "Ctrl-E",
    "itemize": "Ctrl-I"
   },
   "labels_anchors": false,
   "latex_user_defs": false,
   "report_style_numbering": false,
   "user_envs_cfg": false
  },
  "nbTranslate": {
   "displayLangs": [
    "*"
   ],
   "hotkey": "alt-t",
   "langInMainMenu": true,
   "sourceLang": "en",
   "targetLang": "fr",
   "useGoogleTranslate": true
  },
  "toc": {
   "base_numbering": 1,
   "nav_menu": {},
   "number_sections": true,
   "sideBar": true,
   "skip_h1_title": false,
   "title_cell": "Table des matières",
   "title_sidebar": "Table des matières",
   "toc_cell": false,
   "toc_position": {
    "height": "721px",
    "left": "35px",
    "top": "151.7px",
    "width": "280px"
   },
   "toc_section_display": true,
   "toc_window_display": true
  },
  "varInspector": {
   "cols": {
    "lenName": 16,
    "lenType": 16,
    "lenVar": 40
   },
   "kernels_config": {
    "python": {
     "delete_cmd_postfix": "",
     "delete_cmd_prefix": "del ",
     "library": "var_list.py",
     "varRefreshCmd": "print(var_dic_list())"
    },
    "r": {
     "delete_cmd_postfix": ") ",
     "delete_cmd_prefix": "rm(",
     "library": "var_list.r",
     "varRefreshCmd": "cat(var_dic_list()) "
    }
   },
   "types_to_exclude": [
    "module",
    "function",
    "builtin_function_or_method",
    "instance",
    "_Feature"
   ],
   "window_display": false
  }
 },
 "nbformat": 4,
 "nbformat_minor": 5
}
